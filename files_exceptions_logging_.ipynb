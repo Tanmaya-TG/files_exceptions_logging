{
  "cells": [
    {
      "cell_type": "markdown",
      "id": "9bbb0f4b",
      "metadata": {
        "id": "9bbb0f4b"
      },
      "source": [
        "### Q1. Difference between interpreted and compiled languages\n",
        "Interpreted languages execute code line by line using an interpreter (e.g., Python).\n",
        "\n",
        "Compiled languages translate the entire code into machine code before execution (e.g., C, C++).\n",
        "\n",
        "**Interpreted =>** slower but flexible.\n",
        "\n",
        "**Compiled =>** faster but less flexible."
      ]
    },
    {
      "cell_type": "markdown",
      "id": "7225789e",
      "metadata": {
        "id": "7225789e"
      },
      "source": [
        "### Q2. Exception handling in Python\n",
        "Exception handling is a way to manage runtime errors using **try, except, else, and finally blocks**."
      ]
    },
    {
      "cell_type": "markdown",
      "id": "8212b61b",
      "metadata": {
        "id": "8212b61b"
      },
      "source": [
        "### Q3. Purpose of finally block\n",
        "The `finally` block **always executes** (whether an exception occurs or not). It is commonly used to release resources like closing files or DB connections."
      ]
    },
    {
      "cell_type": "markdown",
      "id": "fd760148",
      "metadata": {
        "id": "fd760148"
      },
      "source": [
        "### Q4. Logging in Python\n",
        "Logging is the process of recording events and messages from a program for debugging and monitoring.\n",
        "\n",
        "Python provides the built-in **logging** module."
      ]
    },
    {
      "cell_type": "markdown",
      "id": "798d3694",
      "metadata": {
        "id": "798d3694"
      },
      "source": [
        "### Q5. Significance of __del__ method\n",
        "`__del__` is a destructor method. It's called when an object is about to be destroyed by garbage collection."
      ]
    },
    {
      "cell_type": "markdown",
      "id": "2f79bf1c",
      "metadata": {
        "id": "2f79bf1c"
      },
      "source": [
        "### Q6. Difference between import and from ... import\n",
        "`import module_name` → imports the whole module.\n",
        "\n",
        "`from module_name import func` → imports specific functions/classes."
      ]
    },
    {
      "cell_type": "markdown",
      "id": "fea91502",
      "metadata": {
        "id": "fea91502"
      },
      "source": [
        "### Q7. Handling multiple exceptions\n",
        "You can use multiple `except` blocks or a single `except` block with a **tuple of exceptions**."
      ]
    },
    {
      "cell_type": "markdown",
      "id": "06897a31",
      "metadata": {
        "id": "06897a31"
      },
      "source": [
        "### Q8. Purpose of with statement in file handling\n",
        "The `with` statement ensures that files are properly closed after use, even if an error occurs."
      ]
    },
    {
      "cell_type": "markdown",
      "id": "42f70221",
      "metadata": {
        "id": "42f70221"
      },
      "source": [
        "### Q9. Difference between multithreading and multiprocessing\n",
        "- **Multithreading** → Multiple threads in the same process (share memory).\n",
        "- **Multiprocessing** → Multiple processes with separate memory spaces."
      ]
    },
    {
      "cell_type": "markdown",
      "id": "13be6341",
      "metadata": {
        "id": "13be6341"
      },
      "source": [
        "### Q10. Advantages of using logging\n",
        "- Helps debugging\n",
        "- Records program flow\n",
        "- Can log at different levels (INFO, ERROR, etc.)\n",
        "- Output can be stored in files"
      ]
    },
    {
      "cell_type": "markdown",
      "id": "1b7d9586",
      "metadata": {
        "id": "1b7d9586"
      },
      "source": [
        "### Q11. Memory management in Python\n",
        "Memory management is the process of allocating and releasing memory.\n",
        "Python uses **reference counting and garbage collection**."
      ]
    },
    {
      "cell_type": "markdown",
      "id": "9e872a91",
      "metadata": {
        "id": "9e872a91"
      },
      "source": [
        "### Q12. Steps in exception handling\n",
        "- try: code that may raise an exception\n",
        "- except: handles the error\n",
        "- else: executes if no error\n",
        "- finally: always executes"
      ]
    },
    {
      "cell_type": "markdown",
      "id": "f8d63072",
      "metadata": {
        "id": "f8d63072"
      },
      "source": [
        "### Q13. Importance of memory management\n",
        "It ensures **efficient use of memory** and prevents memory leaks."
      ]
    },
    {
      "cell_type": "markdown",
      "id": "3ef866ae",
      "metadata": {
        "id": "3ef866ae"
      },
      "source": [
        "### Q14. Role of try and except\n",
        "- **try:** holds code that might raise errors.\n",
        "- **except:** handles the error if it occurs."
      ]
    },
    {
      "cell_type": "markdown",
      "id": "a26e26ab",
      "metadata": {
        "id": "a26e26ab"
      },
      "source": [
        "### Q15. Python's garbage collection system\n",
        "- Uses **reference counting**\n",
        "- Collects cyclic references using the **garbage collector**"
      ]
    },
    {
      "cell_type": "markdown",
      "id": "ebdcb3ac",
      "metadata": {
        "id": "ebdcb3ac"
      },
      "source": [
        "### Q16. Purpose of else block in exception handling\n",
        "The **else block executes only if no exception occurs**."
      ]
    },
    {
      "cell_type": "markdown",
      "id": "993b8c5e",
      "metadata": {
        "id": "993b8c5e"
      },
      "source": [
        "### Q17. Common logging levels\n",
        "DEBUG, INFO, WARNING, ERROR, CRITICAL"
      ]
    },
    {
      "cell_type": "markdown",
      "id": "5abd6df9",
      "metadata": {
        "id": "5abd6df9"
      },
      "source": [
        "### Q18. Difference between os.fork() and multiprocessing\n",
        "- `os.fork()` → Unix only, creates child process at OS level.\n",
        "- `multiprocessing` → Cross-platform, provides high-level API."
      ]
    },
    {
      "cell_type": "markdown",
      "id": "4ddad006",
      "metadata": {
        "id": "4ddad006"
      },
      "source": [
        "### Q19. Importance of closing a file\n",
        "Closing a file frees up resources and avoids corruption of data."
      ]
    },
    {
      "cell_type": "markdown",
      "id": "f0ea94e7",
      "metadata": {
        "id": "f0ea94e7"
      },
      "source": [
        "### Q20. Difference between file.read() and file.readline()\n",
        "- `file.read()` → reads entire file or given number of characters.\n",
        "- `file.readline()` → reads one line at a time."
      ]
    },
    {
      "cell_type": "markdown",
      "id": "6fbaba58",
      "metadata": {
        "id": "6fbaba58"
      },
      "source": [
        "### Q21. Logging module usage\n",
        "The `logging` module is used to log messages for debugging, tracking, and monitoring."
      ]
    },
    {
      "cell_type": "markdown",
      "id": "8160a7f2",
      "metadata": {
        "id": "8160a7f2"
      },
      "source": [
        "### Q22. os module usage in file handling\n",
        "The `os` module provides functions for interacting with the operating system (path handling, file operations)."
      ]
    },
    {
      "cell_type": "markdown",
      "id": "ab02e627",
      "metadata": {
        "id": "ab02e627"
      },
      "source": [
        "### Q23. Challenges in memory management\n",
        "- Circular references\n",
        "- Memory leaks if references are not cleared\n",
        "- Large objects consuming memory"
      ]
    },
    {
      "cell_type": "markdown",
      "id": "0c9483ca",
      "metadata": {
        "id": "0c9483ca"
      },
      "source": [
        "### Q24. Raising an exception manually\n",
        "Use the `raise` keyword.\n",
        "\n",
        "Example: `raise ValueError(\"Invalid value\")`"
      ]
    },
    {
      "cell_type": "markdown",
      "id": "b0159a40",
      "metadata": {
        "id": "b0159a40"
      },
      "source": [
        "### Q25. Importance of multithreading\n",
        "Multithreading is useful for **I/O-bound tasks** (web requests, file I/O) to improve performance."
      ]
    },
    {
      "cell_type": "markdown",
      "id": "f53874b3",
      "metadata": {
        "id": "f53874b3"
      },
      "source": [
        "### Q26. Open a file for writing and write a string"
      ]
    },
    {
      "cell_type": "code",
      "execution_count": 4,
      "id": "996865fe",
      "metadata": {
        "id": "996865fe"
      },
      "outputs": [],
      "source": [
        "with open(\"test.txt\", \"w\") as f:\n",
        "    f.write(\"Hello, this is a test file.\")"
      ]
    },
    {
      "cell_type": "markdown",
      "id": "ed3b2b8b",
      "metadata": {
        "id": "ed3b2b8b"
      },
      "source": [
        "### Q27. Read file contents and print each line"
      ]
    },
    {
      "cell_type": "code",
      "execution_count": 5,
      "id": "2c4fe163",
      "metadata": {
        "colab": {
          "base_uri": "https://localhost:8080/"
        },
        "id": "2c4fe163",
        "outputId": "1f412294-c4be-4952-84b1-bf79f0ff000b"
      },
      "outputs": [
        {
          "output_type": "stream",
          "name": "stdout",
          "text": [
            "Hello, this is a test file.\n"
          ]
        }
      ],
      "source": [
        "with open(\"test.txt\", \"r\") as f:\n",
        "    for line in f:\n",
        "        print(line.strip())"
      ]
    },
    {
      "cell_type": "markdown",
      "id": "02480b6c",
      "metadata": {
        "id": "02480b6c"
      },
      "source": [
        "### Q28. Handle case where file doesn't exist"
      ]
    },
    {
      "cell_type": "code",
      "execution_count": 6,
      "id": "254c04c8",
      "metadata": {
        "colab": {
          "base_uri": "https://localhost:8080/"
        },
        "id": "254c04c8",
        "outputId": "e0f31764-3797-4346-9519-d0b66c621103"
      },
      "outputs": [
        {
          "output_type": "stream",
          "name": "stdout",
          "text": [
            "File not found!\n"
          ]
        }
      ],
      "source": [
        "try:\n",
        "    with open(\"nofile.txt\", \"r\") as f:\n",
        "        print(f.read())\n",
        "except FileNotFoundError:\n",
        "    print(\"File not found!\")"
      ]
    },
    {
      "cell_type": "markdown",
      "id": "0b2ac84a",
      "metadata": {
        "id": "0b2ac84a"
      },
      "source": [
        "### Q29. Copy content from one file to another"
      ]
    },
    {
      "cell_type": "code",
      "execution_count": 7,
      "id": "a9556859",
      "metadata": {
        "id": "a9556859"
      },
      "outputs": [],
      "source": [
        "with open(\"test.txt\", \"r\") as f1, open(\"copy.txt\", \"w\") as f2:\n",
        "    for line in f1:\n",
        "        f2.write(line)"
      ]
    },
    {
      "cell_type": "markdown",
      "id": "db57e350",
      "metadata": {
        "id": "db57e350"
      },
      "source": [
        "### Q30. Catch division by zero error"
      ]
    },
    {
      "cell_type": "code",
      "execution_count": 8,
      "id": "122058af",
      "metadata": {
        "colab": {
          "base_uri": "https://localhost:8080/"
        },
        "id": "122058af",
        "outputId": "333d3088-eb2d-49e6-b5e2-9797ebc3175a"
      },
      "outputs": [
        {
          "output_type": "stream",
          "name": "stdout",
          "text": [
            "Division by zero is not allowed\n"
          ]
        }
      ],
      "source": [
        "try:\n",
        "    x = 10 / 0\n",
        "except ZeroDivisionError:\n",
        "    print(\"Division by zero is not allowed\")"
      ]
    },
    {
      "cell_type": "markdown",
      "id": "885c383e",
      "metadata": {
        "id": "885c383e"
      },
      "source": [
        "### Q31. Log error when division by zero occurs"
      ]
    },
    {
      "cell_type": "code",
      "execution_count": 9,
      "id": "d9791d46",
      "metadata": {
        "colab": {
          "base_uri": "https://localhost:8080/"
        },
        "id": "d9791d46",
        "outputId": "28c1e9c3-4c3a-473a-a5f4-ad7a32b5e28c"
      },
      "outputs": [
        {
          "output_type": "stream",
          "name": "stderr",
          "text": [
            "ERROR:root:Division by zero error occurred\n"
          ]
        }
      ],
      "source": [
        "import logging\n",
        "logging.basicConfig(filename=\"app.log\", level=logging.ERROR)\n",
        "try:\n",
        "    result = 5 / 0\n",
        "except ZeroDivisionError:\n",
        "    logging.error(\"Division by zero error occurred\")"
      ]
    },
    {
      "cell_type": "markdown",
      "id": "d8ac9ae3",
      "metadata": {
        "id": "d8ac9ae3"
      },
      "source": [
        "### Q32. Log at different levels"
      ]
    },
    {
      "cell_type": "code",
      "execution_count": 10,
      "id": "aaf720c6",
      "metadata": {
        "colab": {
          "base_uri": "https://localhost:8080/"
        },
        "id": "aaf720c6",
        "outputId": "28bd6e18-0691-47ec-8181-fd35d6b05159"
      },
      "outputs": [
        {
          "output_type": "stream",
          "name": "stderr",
          "text": [
            "WARNING:root:This is a warning\n",
            "ERROR:root:This is an error\n"
          ]
        }
      ],
      "source": [
        "logging.basicConfig(filename=\"multi.log\", level=logging.DEBUG)\n",
        "logging.info(\"This is an info message\")\n",
        "logging.warning(\"This is a warning\")\n",
        "logging.error(\"This is an error\")"
      ]
    },
    {
      "cell_type": "markdown",
      "id": "c6560ebc",
      "metadata": {
        "id": "c6560ebc"
      },
      "source": [
        "### Q33. Handle file opening error"
      ]
    },
    {
      "cell_type": "code",
      "execution_count": 11,
      "id": "c096749f",
      "metadata": {
        "colab": {
          "base_uri": "https://localhost:8080/"
        },
        "id": "c096749f",
        "outputId": "ec1f2deb-d0d0-4687-c66e-05c2e4b27156"
      },
      "outputs": [
        {
          "output_type": "stream",
          "name": "stdout",
          "text": [
            "Error: File not found\n"
          ]
        }
      ],
      "source": [
        "try:\n",
        "    f = open(\"unknown.txt\", \"r\")\n",
        "except FileNotFoundError:\n",
        "    print(\"Error: File not found\")"
      ]
    },
    {
      "cell_type": "markdown",
      "id": "29abd599",
      "metadata": {
        "id": "29abd599"
      },
      "source": [
        "### Q34. Read file line by line into a list"
      ]
    },
    {
      "cell_type": "code",
      "execution_count": 12,
      "id": "b5c37712",
      "metadata": {
        "colab": {
          "base_uri": "https://localhost:8080/"
        },
        "id": "b5c37712",
        "outputId": "0d1ca284-d83e-49b4-a527-ddfac265f017"
      },
      "outputs": [
        {
          "output_type": "stream",
          "name": "stdout",
          "text": [
            "['Hello, this is a test file.']\n"
          ]
        }
      ],
      "source": [
        "with open(\"test.txt\", \"r\") as f:\n",
        "    lines = f.readlines()\n",
        "print(lines)"
      ]
    },
    {
      "cell_type": "markdown",
      "id": "2ef196c0",
      "metadata": {
        "id": "2ef196c0"
      },
      "source": [
        "### Q35. Append data to file"
      ]
    },
    {
      "cell_type": "code",
      "execution_count": 13,
      "id": "9db9568a",
      "metadata": {
        "id": "9db9568a"
      },
      "outputs": [],
      "source": [
        "with open(\"test.txt\", \"a\") as f:\n",
        "    f.write(\"\\nNew line added\")"
      ]
    },
    {
      "cell_type": "markdown",
      "id": "af6c60e4",
      "metadata": {
        "id": "af6c60e4"
      },
      "source": [
        "### Q36. Handle missing dictionary key"
      ]
    },
    {
      "cell_type": "code",
      "execution_count": 14,
      "id": "1a7db4ad",
      "metadata": {
        "colab": {
          "base_uri": "https://localhost:8080/"
        },
        "id": "1a7db4ad",
        "outputId": "440433b4-6b9d-4d66-9352-8e936374ef85"
      },
      "outputs": [
        {
          "output_type": "stream",
          "name": "stdout",
          "text": [
            "Key not found\n"
          ]
        }
      ],
      "source": [
        "try:\n",
        "    d = {\"a\": 1}\n",
        "    print(d[\"b\"])\n",
        "except KeyError:\n",
        "    print(\"Key not found\")"
      ]
    },
    {
      "cell_type": "markdown",
      "id": "29a90faf",
      "metadata": {
        "id": "29a90faf"
      },
      "source": [
        "### Q37. Multiple except blocks"
      ]
    },
    {
      "cell_type": "code",
      "execution_count": 15,
      "id": "dc1eb438",
      "metadata": {
        "colab": {
          "base_uri": "https://localhost:8080/"
        },
        "id": "dc1eb438",
        "outputId": "1b36b6b6-a5ed-4ced-aafa-c6ea3dc4ac97"
      },
      "outputs": [
        {
          "output_type": "stream",
          "name": "stdout",
          "text": [
            "Value error occurred\n"
          ]
        }
      ],
      "source": [
        "try:\n",
        "    a = int(\"abc\")\n",
        "except ValueError:\n",
        "    print(\"Value error occurred\")\n",
        "except TypeError:\n",
        "    print(\"Type error occurred\")"
      ]
    },
    {
      "cell_type": "markdown",
      "id": "2306d57b",
      "metadata": {
        "id": "2306d57b"
      },
      "source": [
        "### Q38. Check if file exists before reading"
      ]
    },
    {
      "cell_type": "code",
      "execution_count": 16,
      "id": "f538164a",
      "metadata": {
        "colab": {
          "base_uri": "https://localhost:8080/"
        },
        "id": "f538164a",
        "outputId": "681996b5-48bb-41ec-a1d3-9fd2a9d782fe"
      },
      "outputs": [
        {
          "output_type": "stream",
          "name": "stdout",
          "text": [
            "Hello, this is a test file.\n",
            "New line added\n"
          ]
        }
      ],
      "source": [
        "import os\n",
        "if os.path.exists(\"test.txt\"):\n",
        "    with open(\"test.txt\", \"r\") as f:\n",
        "        print(f.read())\n",
        "else:\n",
        "    print(\"File does not exist\")"
      ]
    },
    {
      "cell_type": "markdown",
      "id": "c9119c01",
      "metadata": {
        "id": "c9119c01"
      },
      "source": [
        "### Q39. Log both info and error"
      ]
    },
    {
      "cell_type": "code",
      "execution_count": 17,
      "id": "f1d07782",
      "metadata": {
        "colab": {
          "base_uri": "https://localhost:8080/"
        },
        "id": "f1d07782",
        "outputId": "f1b89465-f410-4623-8996-8e0b17d4637b"
      },
      "outputs": [
        {
          "output_type": "stream",
          "name": "stderr",
          "text": [
            "ERROR:root:This is error\n"
          ]
        }
      ],
      "source": [
        "logging.basicConfig(filename=\"mix.log\", level=logging.DEBUG)\n",
        "logging.info(\"This is info\")\n",
        "logging.error(\"This is error\")"
      ]
    },
    {
      "cell_type": "markdown",
      "id": "eb19a81f",
      "metadata": {
        "id": "eb19a81f"
      },
      "source": [
        "### Q40. Print file content or handle empty file"
      ]
    },
    {
      "cell_type": "code",
      "execution_count": 18,
      "id": "77360890",
      "metadata": {
        "colab": {
          "base_uri": "https://localhost:8080/"
        },
        "id": "77360890",
        "outputId": "b6e7f3c4-518a-4f6d-b051-0e4b98e80e64"
      },
      "outputs": [
        {
          "output_type": "stream",
          "name": "stdout",
          "text": [
            "Hello, this is a test file.\n",
            "New line added\n"
          ]
        }
      ],
      "source": [
        "with open(\"test.txt\", \"r\") as f:\n",
        "    content = f.read()\n",
        "    if content:\n",
        "        print(content)\n",
        "    else:\n",
        "        print(\"File is empty\")"
      ]
    },
    {
      "cell_type": "markdown",
      "id": "0c7ddeee",
      "metadata": {
        "id": "0c7ddeee"
      },
      "source": [
        "### Q41. Memory profiling (example only)"
      ]
    },
    {
      "cell_type": "code",
      "execution_count": 19,
      "id": "d464b97d",
      "metadata": {
        "id": "d464b97d"
      },
      "outputs": [],
      "source": [
        "# from memory_profiler import profile\n",
        "# @profile\n",
        "# def my_func():\n",
        "#     x = [i for i in range(10000)]\n",
        "# my_func()"
      ]
    },
    {
      "cell_type": "markdown",
      "id": "dbad4c1d",
      "metadata": {
        "id": "dbad4c1d"
      },
      "source": [
        "### Q42. Create and write numbers to file"
      ]
    },
    {
      "cell_type": "code",
      "execution_count": 20,
      "id": "90d0c770",
      "metadata": {
        "id": "90d0c770"
      },
      "outputs": [],
      "source": [
        "with open(\"numbers.txt\", \"w\") as f:\n",
        "    for i in range(1, 11):\n",
        "        f.write(str(i) + \"\\n\")"
      ]
    },
    {
      "cell_type": "markdown",
      "id": "300d0188",
      "metadata": {
        "id": "300d0188"
      },
      "source": [
        "### Q43. Logging with rotation"
      ]
    },
    {
      "cell_type": "code",
      "execution_count": 21,
      "id": "6748483a",
      "metadata": {
        "colab": {
          "base_uri": "https://localhost:8080/"
        },
        "id": "6748483a",
        "outputId": "5ba471ca-a94a-41e4-90c9-4d55d8b018eb"
      },
      "outputs": [
        {
          "output_type": "stream",
          "name": "stderr",
          "text": [
            "INFO:root:Rotating log setup complete\n"
          ]
        }
      ],
      "source": [
        "from logging.handlers import RotatingFileHandler\n",
        "handler = RotatingFileHandler(\"rotate.log\", maxBytes=1000000, backupCount=3)\n",
        "logger = logging.getLogger()\n",
        "logger.addHandler(handler)\n",
        "logger.setLevel(logging.INFO)\n",
        "logger.info(\"Rotating log setup complete\")"
      ]
    },
    {
      "cell_type": "markdown",
      "id": "a6e535bd",
      "metadata": {
        "id": "a6e535bd"
      },
      "source": [
        "### Q44. Handle IndexError and KeyError"
      ]
    },
    {
      "cell_type": "code",
      "execution_count": 22,
      "id": "4d3373fc",
      "metadata": {
        "colab": {
          "base_uri": "https://localhost:8080/"
        },
        "id": "4d3373fc",
        "outputId": "854861b0-1b6f-42a7-a56b-597289a54883"
      },
      "outputs": [
        {
          "output_type": "stream",
          "name": "stdout",
          "text": [
            "Index out of range\n"
          ]
        }
      ],
      "source": [
        "try:\n",
        "    lst = [1, 2, 3]\n",
        "    print(lst[5])\n",
        "    d = {\"a\": 1}\n",
        "    print(d[\"b\"])\n",
        "except IndexError:\n",
        "    print(\"Index out of range\")\n",
        "except KeyError:\n",
        "    print(\"Key not found\")"
      ]
    },
    {
      "cell_type": "markdown",
      "id": "607181c4",
      "metadata": {
        "id": "607181c4"
      },
      "source": [
        "### Q45. Open and read using context manager"
      ]
    },
    {
      "cell_type": "code",
      "execution_count": 23,
      "id": "e3d5c0ed",
      "metadata": {
        "colab": {
          "base_uri": "https://localhost:8080/"
        },
        "id": "e3d5c0ed",
        "outputId": "f9d00d0d-d59e-4b9f-e59e-0145c9257e4c"
      },
      "outputs": [
        {
          "output_type": "stream",
          "name": "stdout",
          "text": [
            "Hello, this is a test file.\n",
            "New line added\n"
          ]
        }
      ],
      "source": [
        "with open(\"test.txt\", \"r\") as f:\n",
        "    print(f.read())"
      ]
    },
    {
      "cell_type": "markdown",
      "id": "88547cf9",
      "metadata": {
        "id": "88547cf9"
      },
      "source": [
        "### Q46. Count word occurrences in file"
      ]
    },
    {
      "cell_type": "code",
      "execution_count": 24,
      "id": "5c49a8de",
      "metadata": {
        "colab": {
          "base_uri": "https://localhost:8080/"
        },
        "id": "5c49a8de",
        "outputId": "8d16887b-f2f3-4c0f-ca20-429bfd6264d6"
      },
      "outputs": [
        {
          "output_type": "stream",
          "name": "stdout",
          "text": [
            "'test' occurs 1 times\n"
          ]
        }
      ],
      "source": [
        "word = \"test\"\n",
        "count = 0\n",
        "with open(\"test.txt\", \"r\") as f:\n",
        "    for line in f:\n",
        "        count += line.count(word)\n",
        "print(f\"'{word}' occurs {count} times\")"
      ]
    },
    {
      "cell_type": "markdown",
      "id": "dd264f23",
      "metadata": {
        "id": "dd264f23"
      },
      "source": [
        "### Q47. Check if file is empty"
      ]
    },
    {
      "cell_type": "code",
      "execution_count": 25,
      "id": "1deb2c24",
      "metadata": {
        "colab": {
          "base_uri": "https://localhost:8080/"
        },
        "id": "1deb2c24",
        "outputId": "28885a0e-c624-43d3-ed49-b36581371435"
      },
      "outputs": [
        {
          "output_type": "stream",
          "name": "stdout",
          "text": [
            "Hello, this is a test file.\n",
            "New line added\n"
          ]
        }
      ],
      "source": [
        "if os.path.exists(\"test.txt\") and os.stat(\"test.txt\").st_size == 0:\n",
        "    print(\"File is empty\")\n",
        "else:\n",
        "    with open(\"test.txt\", \"r\") as f:\n",
        "        print(f.read())"
      ]
    },
    {
      "cell_type": "markdown",
      "id": "108cb882",
      "metadata": {
        "id": "108cb882"
      },
      "source": [
        "### Q48. Log error during file handling"
      ]
    },
    {
      "cell_type": "code",
      "execution_count": 26,
      "id": "b79efa8e",
      "metadata": {
        "colab": {
          "base_uri": "https://localhost:8080/"
        },
        "id": "b79efa8e",
        "outputId": "71196c59-f409-4577-bfa5-e8ee0d27a114"
      },
      "outputs": [
        {
          "output_type": "stream",
          "name": "stderr",
          "text": [
            "ERROR:root:File handling error occurred\n"
          ]
        }
      ],
      "source": [
        "try:\n",
        "    with open(\"nofile.txt\", \"r\") as f:\n",
        "        print(f.read())\n",
        "except FileNotFoundError:\n",
        "    logging.error(\"File handling error occurred\")"
      ]
    }
  ],
  "metadata": {
    "colab": {
      "provenance": []
    },
    "language_info": {
      "name": "python"
    },
    "kernelspec": {
      "name": "python3",
      "display_name": "Python 3"
    }
  },
  "nbformat": 4,
  "nbformat_minor": 5
}